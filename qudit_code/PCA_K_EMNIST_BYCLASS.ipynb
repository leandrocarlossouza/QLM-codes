{
 "cells": [
  {
   "cell_type": "code",
   "execution_count": null,
   "id": "e01717f8-84f7-4273-a868-3faa9e6aa514",
   "metadata": {},
   "outputs": [
    {
     "name": "stdout",
     "output_type": "stream",
     "text": [
      "Loading EMNIST split: byclass\n",
      "BYCLASS - Training samples: 697932\n",
      "BYCLASS - Test samples: 116323\n",
      "BYCLASS - Number of classes: 62\n"
     ]
    }
   ],
   "source": [
    "import torch\n",
    "from torchvision import datasets, transforms\n",
    "from torch.utils.data import DataLoader\n",
    "import matplotlib.pyplot as plt\n",
    "from scipy.fftpack import dct\n",
    "import math\n",
    "import numpy as np\n",
    "from concurrent.futures import ThreadPoolExecutor\n",
    "from pca_emnist import *\n",
    "from time import perf_counter\n",
    "from sklearn.metrics import confusion_matrix\n",
    "from sklearn.metrics import accuracy_score\n",
    "from sklearn import metrics\n",
    "from KFolderCV import *\n",
    "from joblib import Parallel, delayed\n",
    "\n",
    "kf = KFolderCV(10)\n",
    "X, y = fit_pca_on_full_dataset(\"byclass\")\n",
    "#y = y-1\n",
    "print(np.min(y))\n",
    "print(np.max(y))\n",
    "\n",
    "for neurons in range(1,3):\n",
    "    for number in range(10,41,10): \n",
    "        print(f\"Terms: {number} neurons: {neurons}\")\n",
    "        ma, sa, mt, st, nv = kf.cross_validate(X,y,neurons,number, 0)\n",
    "        print(f\"power-> variables: {nv} accuracy: {100*ma:.2f} ({100*sa:.2f}) time: {mt:.2f}\")\n",
    "        ma, sa,mt, st, nv = kf.cross_validate(X,y,neurons,number, 1)\n",
    "        print(f\"multivariate-> variables: {nv} accuracy:  {100*ma:.2f} ({100*sa:.2f}) time: {mt:.2f}\")\n",
    "\n"
   ]
  },
  {
   "cell_type": "code",
   "execution_count": null,
   "id": "9393ad5b-cce8-4c76-8df2-a72e8256805a",
   "metadata": {},
   "outputs": [],
   "source": []
  }
 ],
 "metadata": {
  "kernelspec": {
   "display_name": "Python 3 (ipykernel)",
   "language": "python",
   "name": "python3"
  },
  "language_info": {
   "codemirror_mode": {
    "name": "ipython",
    "version": 3
   },
   "file_extension": ".py",
   "mimetype": "text/x-python",
   "name": "python",
   "nbconvert_exporter": "python",
   "pygments_lexer": "ipython3",
   "version": "3.10.12"
  }
 },
 "nbformat": 4,
 "nbformat_minor": 5
}
