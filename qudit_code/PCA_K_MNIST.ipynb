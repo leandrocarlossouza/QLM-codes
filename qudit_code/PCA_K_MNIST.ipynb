{
 "cells": [
  {
   "cell_type": "code",
   "execution_count": null,
   "id": "686b908c-2692-444e-8bf3-128d8167c258",
   "metadata": {},
   "outputs": [
    {
     "name": "stderr",
     "output_type": "stream",
     "text": [
      "2025-04-08 10:44:21.690599: E external/local_xla/xla/stream_executor/cuda/cuda_fft.cc:467] Unable to register cuFFT factory: Attempting to register factory for plugin cuFFT when one has already been registered\n",
      "WARNING: All log messages before absl::InitializeLog() is called are written to STDERR\n",
      "E0000 00:00:1744119861.700758    6717 cuda_dnn.cc:8579] Unable to register cuDNN factory: Attempting to register factory for plugin cuDNN when one has already been registered\n",
      "E0000 00:00:1744119861.703851    6717 cuda_blas.cc:1407] Unable to register cuBLAS factory: Attempting to register factory for plugin cuBLAS when one has already been registered\n",
      "W0000 00:00:1744119861.712703    6717 computation_placer.cc:177] computation placer already registered. Please check linkage and avoid linking the same target more than once.\n",
      "W0000 00:00:1744119861.712713    6717 computation_placer.cc:177] computation placer already registered. Please check linkage and avoid linking the same target more than once.\n",
      "W0000 00:00:1744119861.712715    6717 computation_placer.cc:177] computation placer already registered. Please check linkage and avoid linking the same target more than once.\n",
      "W0000 00:00:1744119861.712716    6717 computation_placer.cc:177] computation placer already registered. Please check linkage and avoid linking the same target more than once.\n",
      "2025-04-08 10:44:21.715675: I tensorflow/core/platform/cpu_feature_guard.cc:210] This TensorFlow binary is optimized to use available CPU instructions in performance-critical operations.\n",
      "To enable the following instructions: AVX2 FMA, in other operations, rebuild TensorFlow with the appropriate compiler flags.\n"
     ]
    },
    {
     "name": "stdout",
     "output_type": "stream",
     "text": [
      "0\n",
      "9\n",
      "Terms: 10 neurons: 1\n",
      "1/10 -> accuracy: 76.66  time: 4.30\n",
      "2/10 -> accuracy: 78.41  time: 1.79\n",
      "3/10 -> accuracy: 77.37  time: 1.80\n",
      "4/10 -> accuracy: 76.69  time: 1.81\n",
      "5/10 -> accuracy: 77.01  time: 1.80\n",
      "6/10 -> accuracy: 77.87  time: 1.76\n",
      "7/10 -> accuracy: 77.11  time: 1.81\n",
      "8/10 -> accuracy: 76.99  time: 1.81\n",
      "9/10 -> accuracy: 77.29  time: 1.79\n",
      "10/10 -> accuracy: 77.36  time: 1.81\n",
      "power-> variables: 11 accuracy: 77.28 (0.51) time: 2.05\n",
      "1/10 -> accuracy: 76.66  time: 1.75\n",
      "2/10 -> accuracy: 78.41  time: 1.80\n",
      "3/10 -> accuracy: 77.37  time: 1.80\n",
      "4/10 -> accuracy: 76.69  time: 1.81\n",
      "5/10 -> accuracy: 77.01  time: 1.79\n",
      "6/10 -> accuracy: 77.87  time: 1.82\n",
      "7/10 -> accuracy: 77.11  time: 1.79\n",
      "8/10 -> accuracy: 76.99  time: 1.79\n",
      "9/10 -> accuracy: 77.29  time: 1.76\n",
      "10/10 -> accuracy: 77.36  time: 1.79\n",
      "multivariate-> variables: 11 accuracy:  77.28 (0.51) time: 1.79\n",
      "Terms: 20 neurons: 1\n",
      "1/10 -> accuracy: 85.26  time: 2.37\n",
      "2/10 -> accuracy: 86.16  time: 2.33\n",
      "3/10 -> accuracy: 85.13  time: 2.32\n",
      "4/10 -> accuracy: 85.17  time: 2.39\n",
      "5/10 -> accuracy: 85.46  time: 2.39\n",
      "6/10 -> accuracy: 85.47  time: 2.38\n",
      "7/10 -> accuracy: 85.91  time: 2.38\n",
      "8/10 -> accuracy: 85.80  time: 2.39\n"
     ]
    }
   ],
   "source": [
    "import torch\n",
    "from torchvision import datasets, transforms\n",
    "from torch.utils.data import DataLoader\n",
    "import matplotlib.pyplot as plt\n",
    "from scipy.fftpack import dct\n",
    "import math\n",
    "import numpy as np\n",
    "from concurrent.futures import ThreadPoolExecutor\n",
    "from pca_emnist import *\n",
    "from time import perf_counter\n",
    "from sklearn.metrics import confusion_matrix\n",
    "from sklearn.metrics import accuracy_score\n",
    "from sklearn import metrics\n",
    "from KFolderCV import *\n",
    "from joblib import Parallel, delayed\n",
    "import numpy as np\n",
    "import tensorflow as tf\n",
    "import matplotlib.pyplot as plt\n",
    "\n",
    "from sklearn.metrics import confusion_matrix\n",
    "from sklearn.metrics import accuracy_score\n",
    "from sklearn import metrics\n",
    "from sklearn.decomposition import PCA\n",
    "from time import perf_counter\n",
    "\n",
    "kf = KFolderCV(10)\n",
    "mnist = tf.keras.datasets.mnist\n",
    "(x_train, y_train), (x_test, y_test) = mnist.load_data()\n",
    "X = np.concatenate((x_train, x_test), axis=0)\n",
    "y = np.concatenate((y_train, y_test), axis=0)\n",
    "\n",
    "X= np.round(X.reshape(X.shape[0], -1) / 255.0)  # Normalizar para [0, 1]\n",
    "\n",
    "#y = y-1\n",
    "print(np.min(y))\n",
    "print(np.max(y))\n",
    "\n",
    "for neurons in range(1,3):\n",
    "    for number in range(10,41,10): \n",
    "        print(f\"Terms: {number} neurons: {neurons}\")\n",
    "        ma, sa, mt, st, nv = kf.cross_validate(X,y,neurons,number, 0)\n",
    "        print(f\"power-> variables: {nv} accuracy: {100*ma:.2f} ({100*sa:.2f}) time: {mt:.2f}\")\n",
    "        ma, sa,mt, st, nv = kf.cross_validate(X,y,neurons,number, 1)\n",
    "        print(f\"multivariate-> variables: {nv} accuracy:  {100*ma:.2f} ({100*sa:.2f}) time: {mt:.2f}\")\n",
    "\n",
    "  \n"
   ]
  },
  {
   "cell_type": "code",
   "execution_count": null,
   "id": "0ef782ff-ed2d-43af-ba1d-e007b0f38d64",
   "metadata": {},
   "outputs": [],
   "source": []
  }
 ],
 "metadata": {
  "kernelspec": {
   "display_name": "Python 3 (ipykernel)",
   "language": "python",
   "name": "python3"
  },
  "language_info": {
   "codemirror_mode": {
    "name": "ipython",
    "version": 3
   },
   "file_extension": ".py",
   "mimetype": "text/x-python",
   "name": "python",
   "nbconvert_exporter": "python",
   "pygments_lexer": "ipython3",
   "version": "3.12.3"
  }
 },
 "nbformat": 4,
 "nbformat_minor": 5
}
